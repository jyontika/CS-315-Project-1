{
 "cells": [
  {
   "cell_type": "markdown",
   "metadata": {},
   "source": [
    "# CS 315 - Jaccard Index Analysis\n",
    "\n",
    "Author: Audrey Yip (with help from Eni Mustafaraj)\n",
    "\n",
    "Date: Feb 14 2024\n",
    "\n",
    "**Table of Contents**\n",
    "1. [Importing Data](#sec1)\n",
    "2. [Exploratory Analysis](#sec2)\n",
    "3. [Jaccard Analysis](#sec3)\n",
    "4. [Visualizations](#sec4)"
   ]
  },
  {
   "cell_type": "code",
   "execution_count": 3,
   "metadata": {},
   "outputs": [],
   "source": [
    "import os, csv\n",
    "import numpy as np\n",
    "import pandas as pd\n",
    "import matplotlib.pyplot as plt\n",
    "import seaborn as sns"
   ]
  },
  {
   "cell_type": "markdown",
   "metadata": {},
   "source": [
    "<a id=\"sec1\"></a>\n",
    "### 1. Importing Data"
   ]
  },
  {
   "cell_type": "code",
   "execution_count": 4,
   "metadata": {},
   "outputs": [
    {
     "data": {
      "text/plain": [
       "['02-14-16-57_save_data_all_videos_AY.csv',\n",
       " '02-15-09-13_data_saved_videos_AY.csv',\n",
       " '02-14-16-57_data_saved_videos_AY.csv',\n",
       " '.DS_Store',\n",
       " '02-14-22-46_save_data_all_videos_AY.csv',\n",
       " '02-14-19-04_save_data_all_videos_AY.csv',\n",
       " '02-14-16-57_control_data_all_videos_AY.csv',\n",
       " '02-15-11-18_save_data_all_videos_AY.csv',\n",
       " '02-14-22-45_control_data_all_videos.csv',\n",
       " '02-15-11-17_control_data_all_videos.csv',\n",
       " '02-15-09-13_save_data_all_videos_AY.csv',\n",
       " '02-15-09-13_control_data_all_videos.csv',\n",
       " '02-14-19-03_control_data_all_videos_AY.csv',\n",
       " '02-15-11-18_data_saved_videos_AY.csv',\n",
       " '02-14-19-04_data_saved_videos_AY.csv',\n",
       " '02-14-22-46_data_saved_videos_AY.csv']"
      ]
     },
     "execution_count": 4,
     "metadata": {},
     "output_type": "execute_result"
    }
   ],
   "source": [
    "files = os.listdir('data') # function lists the content of a directory\n",
    "files"
   ]
  },
  {
   "cell_type": "code",
   "execution_count": 5,
   "metadata": {},
   "outputs": [
    {
     "name": "stdout",
     "output_type": "stream",
     "text": [
      "[('02-14-16-57', '02-14-16-57'), ('02-14-19-03', '02-14-19-04'), ('02-14-22-45', '02-14-22-46'), ('02-15-09-13', '02-15-09-13'), ('02-15-11-17', '02-15-11-18')]\n"
     ]
    }
   ],
   "source": [
    "# create tuples for each pair during data collection\n",
    "onlyAllData = [f for f in files if 'data_all' in f]     # filter out saved videos\n",
    "onlyAllData = sorted(onlyAllData)\n",
    "\n",
    "collection_times = []\n",
    "\n",
    "for i in range(0, len(onlyAllData) - 1, 2):\n",
    "    collection_times.append((onlyAllData[i][:11], onlyAllData[i+1][:11]))\n",
    "\n",
    "print(collection_times)"
   ]
  },
  {
   "cell_type": "code",
   "execution_count": 6,
   "metadata": {},
   "outputs": [],
   "source": [
    "## Helper functions\n",
    "def createPostID(row):\n",
    "    \"\"\"helper function: create a new value using music and author\"\"\"\n",
    "    return f\"{row['music']}_{row['author']}\"\n",
    "\n",
    "# for splitting hashtags  \n",
    "splitter = lambda x: np.nan if pd.isna(x) else [s.strip() for s in str(x).split(',')]"
   ]
  },
  {
   "cell_type": "code",
   "execution_count": 7,
   "metadata": {},
   "outputs": [
    {
     "name": "stdout",
     "output_type": "stream",
     "text": [
      "control shape: (2236, 11)\n",
      "save shape: (1731, 11)\n",
      "all data shape: (3967, 11)\n"
     ]
    }
   ],
   "source": [
    "# create 3 dfs: control data, save data, all data\n",
    "\n",
    "control_dfs = []\n",
    "save_dfs = []\n",
    "all_dfs = []\n",
    "\n",
    "for fN in onlyAllData: # folder with files that have all posts\n",
    "    path = os.path.join('data', fN) # create file path\n",
    "    df = pd.read_csv(path) # create dataframe\n",
    "\n",
    "    # add column to indicate date/time collected\n",
    "    df['collectionTime'] = fN[:11]\n",
    "\n",
    "    # add column with unique post id\n",
    "    df['postID'] = df.apply(createPostID, axis=1) # use axis=1 to process one row at a time\n",
    "\n",
    "    # split hashtags into list\n",
    "    #df['hashtag'] = df['hashtag'].apply(splitter)\n",
    "\n",
    "    if 'control'in fN:\n",
    "        control_dfs.append(df)\n",
    "    else:\n",
    "        save_dfs.append(df)\n",
    "\n",
    "    all_dfs.append(df)\n",
    "\n",
    "\n",
    "df_control = pd.concat(control_dfs, ignore_index=True)\n",
    "df_save = pd.concat(save_dfs, ignore_index=True)\n",
    "df_all = pd.concat(all_dfs, ignore_index=True)\n",
    "\n",
    "print(\"control shape:\", df_control.shape)\n",
    "print(\"save shape:\", df_save.shape)\n",
    "print(\"all data shape:\", df_all.shape)\n"
   ]
  },
  {
   "cell_type": "code",
   "execution_count": 8,
   "metadata": {},
   "outputs": [
    {
     "data": {
      "text/html": [
       "<div>\n",
       "<style scoped>\n",
       "    .dataframe tbody tr th:only-of-type {\n",
       "        vertical-align: middle;\n",
       "    }\n",
       "\n",
       "    .dataframe tbody tr th {\n",
       "        vertical-align: top;\n",
       "    }\n",
       "\n",
       "    .dataframe thead th {\n",
       "        text-align: right;\n",
       "    }\n",
       "</style>\n",
       "<table border=\"1\" class=\"dataframe\">\n",
       "  <thead>\n",
       "    <tr style=\"text-align: right;\">\n",
       "      <th></th>\n",
       "      <th>batch</th>\n",
       "      <th>index</th>\n",
       "      <th>music</th>\n",
       "      <th>hashtag</th>\n",
       "      <th>author</th>\n",
       "      <th>likes</th>\n",
       "      <th>comments</th>\n",
       "      <th>shares</th>\n",
       "      <th>saves</th>\n",
       "      <th>collectionTime</th>\n",
       "      <th>postID</th>\n",
       "    </tr>\n",
       "  </thead>\n",
       "  <tbody>\n",
       "    <tr>\n",
       "      <th>0</th>\n",
       "      <td>1</td>\n",
       "      <td>0</td>\n",
       "      <td>original sound - ®️ Louieveegang💙</td>\n",
       "      <td>@louieveemoonteenmoonfam</td>\n",
       "      <td>louieveedee</td>\n",
       "      <td>297300</td>\n",
       "      <td>1571</td>\n",
       "      <td>20300</td>\n",
       "      <td>721</td>\n",
       "      <td>02-14-16-57</td>\n",
       "      <td>original sound - ®️ Louieveegang💙_louieveedee</td>\n",
       "    </tr>\n",
       "    <tr>\n",
       "      <th>1</th>\n",
       "      <td>1</td>\n",
       "      <td>1</td>\n",
       "      <td>original sound - dayz915</td>\n",
       "      <td>atodamadre%F0%9F%8F%A7, %F0%9F%A4%99%F0%9F%8F%...</td>\n",
       "      <td>dayz.915</td>\n",
       "      <td>522299</td>\n",
       "      <td>3713</td>\n",
       "      <td>36500</td>\n",
       "      <td>142900</td>\n",
       "      <td>02-14-16-57</td>\n",
       "      <td>original sound - dayz915_dayz.915</td>\n",
       "    </tr>\n",
       "    <tr>\n",
       "      <th>2</th>\n",
       "      <td>1</td>\n",
       "      <td>2</td>\n",
       "      <td>original sound - DermDoctor | Dr. Shah</td>\n",
       "      <td>@poblanopepp, dermatographia</td>\n",
       "      <td>dermdoctor</td>\n",
       "      <td>430100</td>\n",
       "      <td>4758</td>\n",
       "      <td>24900</td>\n",
       "      <td>6591</td>\n",
       "      <td>02-14-16-57</td>\n",
       "      <td>original sound - DermDoctor | Dr. Shah_dermdoctor</td>\n",
       "    </tr>\n",
       "    <tr>\n",
       "      <th>3</th>\n",
       "      <td>1</td>\n",
       "      <td>3</td>\n",
       "      <td>original sound - 𝐝𝐢𝐧𝐨 🎀</td>\n",
       "      <td>@lashedchars, fy, fyp, fyp%E3%82%B7%E3%82%9Avi...</td>\n",
       "      <td>marschvarl</td>\n",
       "      <td>251</td>\n",
       "      <td>29</td>\n",
       "      <td>31</td>\n",
       "      <td>0</td>\n",
       "      <td>02-14-16-57</td>\n",
       "      <td>original sound - 𝐝𝐢𝐧𝐨 🎀_marschvarl</td>\n",
       "    </tr>\n",
       "    <tr>\n",
       "      <th>4</th>\n",
       "      <td>1</td>\n",
       "      <td>4</td>\n",
       "      <td>original sound - AfroSamuraiT</td>\n",
       "      <td>lifehack, lifehacks, challenge, ksi, prime</td>\n",
       "      <td>afrosamuraitt</td>\n",
       "      <td>65200</td>\n",
       "      <td>3487</td>\n",
       "      <td>11700</td>\n",
       "      <td>189</td>\n",
       "      <td>02-14-16-57</td>\n",
       "      <td>original sound - AfroSamuraiT_afrosamuraitt</td>\n",
       "    </tr>\n",
       "  </tbody>\n",
       "</table>\n",
       "</div>"
      ],
      "text/plain": [
       "   batch  index                                   music  \\\n",
       "0      1      0       original sound - ®️ Louieveegang💙   \n",
       "1      1      1                original sound - dayz915   \n",
       "2      1      2  original sound - DermDoctor | Dr. Shah   \n",
       "3      1      3                 original sound - 𝐝𝐢𝐧𝐨 🎀   \n",
       "4      1      4           original sound - AfroSamuraiT   \n",
       "\n",
       "                                             hashtag         author   likes  \\\n",
       "0                           @louieveemoonteenmoonfam    louieveedee  297300   \n",
       "1  atodamadre%F0%9F%8F%A7, %F0%9F%A4%99%F0%9F%8F%...       dayz.915  522299   \n",
       "2                       @poblanopepp, dermatographia     dermdoctor  430100   \n",
       "3  @lashedchars, fy, fyp, fyp%E3%82%B7%E3%82%9Avi...     marschvarl     251   \n",
       "4         lifehack, lifehacks, challenge, ksi, prime  afrosamuraitt   65200   \n",
       "\n",
       "   comments  shares   saves collectionTime  \\\n",
       "0      1571   20300     721    02-14-16-57   \n",
       "1      3713   36500  142900    02-14-16-57   \n",
       "2      4758   24900    6591    02-14-16-57   \n",
       "3        29      31       0    02-14-16-57   \n",
       "4      3487   11700     189    02-14-16-57   \n",
       "\n",
       "                                              postID  \n",
       "0      original sound - ®️ Louieveegang💙_louieveedee  \n",
       "1                  original sound - dayz915_dayz.915  \n",
       "2  original sound - DermDoctor | Dr. Shah_dermdoctor  \n",
       "3                 original sound - 𝐝𝐢𝐧𝐨 🎀_marschvarl  \n",
       "4        original sound - AfroSamuraiT_afrosamuraitt  "
      ]
     },
     "execution_count": 8,
     "metadata": {},
     "output_type": "execute_result"
    }
   ],
   "source": [
    "df_control.head()"
   ]
  },
  {
   "cell_type": "markdown",
   "metadata": {},
   "source": [
    "<a id=\"sec2\"></a>\n",
    "### 2. Exploratory Analysis"
   ]
  },
  {
   "cell_type": "code",
   "execution_count": 9,
   "metadata": {},
   "outputs": [
    {
     "data": {
      "text/plain": [
       "music         0\n",
       "author        0\n",
       "hashtag    1031\n",
       "dtype: int64"
      ]
     },
     "execution_count": 9,
     "metadata": {},
     "output_type": "execute_result"
    }
   ],
   "source": [
    "# check for null values\n",
    "df_all[['music','author', 'hashtag']].isna().sum() "
   ]
  },
  {
   "cell_type": "markdown",
   "metadata": {},
   "source": [
    "<a id=\"sec3\"></a>\n",
    "### 3. Jaccard Analysis "
   ]
  },
  {
   "cell_type": "code",
   "execution_count": 10,
   "metadata": {},
   "outputs": [],
   "source": [
    "## define function for calculating jaccard index\n",
    "\n",
    "def jaccard_index(list_1, list_2):\n",
    "    set_1 = set(list_1)\n",
    "    set_2 = set(list_2)\n",
    "    intersection = len(set_1.intersection(set_2))\n",
    "    union = len(set_1.union(set_2))\n",
    "    return intersection / union if union != 0 else 0"
   ]
  },
  {
   "cell_type": "code",
   "execution_count": 11,
   "metadata": {},
   "outputs": [
    {
     "data": {
      "text/html": [
       "<div>\n",
       "<style scoped>\n",
       "    .dataframe tbody tr th:only-of-type {\n",
       "        vertical-align: middle;\n",
       "    }\n",
       "\n",
       "    .dataframe tbody tr th {\n",
       "        vertical-align: top;\n",
       "    }\n",
       "\n",
       "    .dataframe thead th {\n",
       "        text-align: right;\n",
       "    }\n",
       "</style>\n",
       "<table border=\"1\" class=\"dataframe\">\n",
       "  <thead>\n",
       "    <tr style=\"text-align: right;\">\n",
       "      <th></th>\n",
       "      <th>hashtag</th>\n",
       "      <th>author</th>\n",
       "      <th>music</th>\n",
       "    </tr>\n",
       "  </thead>\n",
       "  <tbody>\n",
       "    <tr>\n",
       "      <th>02-14-16-57</th>\n",
       "      <td>0.916042</td>\n",
       "      <td>0.897983</td>\n",
       "      <td>0.894289</td>\n",
       "    </tr>\n",
       "    <tr>\n",
       "      <th>02-14-19-03</th>\n",
       "      <td>0.984772</td>\n",
       "      <td>0.988304</td>\n",
       "      <td>0.984344</td>\n",
       "    </tr>\n",
       "    <tr>\n",
       "      <th>02-14-22-45</th>\n",
       "      <td>0.979167</td>\n",
       "      <td>0.971731</td>\n",
       "      <td>0.975089</td>\n",
       "    </tr>\n",
       "    <tr>\n",
       "      <th>02-15-09-13</th>\n",
       "      <td>0.985447</td>\n",
       "      <td>0.980180</td>\n",
       "      <td>0.977113</td>\n",
       "    </tr>\n",
       "    <tr>\n",
       "      <th>02-15-11-17</th>\n",
       "      <td>0.986799</td>\n",
       "      <td>0.983683</td>\n",
       "      <td>0.985882</td>\n",
       "    </tr>\n",
       "  </tbody>\n",
       "</table>\n",
       "</div>"
      ],
      "text/plain": [
       "              hashtag    author     music\n",
       "02-14-16-57  0.916042  0.897983  0.894289\n",
       "02-14-19-03  0.984772  0.988304  0.984344\n",
       "02-14-22-45  0.979167  0.971731  0.975089\n",
       "02-15-09-13  0.985447  0.980180  0.977113\n",
       "02-15-11-17  0.986799  0.983683  0.985882"
      ]
     },
     "execution_count": 11,
     "metadata": {},
     "output_type": "execute_result"
    }
   ],
   "source": [
    "# create new df with difference of feeds for each collectionTime\n",
    "jaccard_list = []\n",
    "variables = ['hashtag', 'author', 'music']\n",
    "\n",
    "for coll_time in collection_times:\n",
    "    jaccard_dict = {}\n",
    "    for variable in variables:\n",
    "        sub_df_control = df_control[df_control['collectionTime'] == coll_time[0]]\n",
    "        sub_df_saves = df_save[df_save['collectionTime'] == coll_time[1]]\n",
    "\n",
    "        control_list = sub_df_control[variable].dropna().tolist()\n",
    "        save_list = sub_df_saves[variable].dropna().tolist()\n",
    "\n",
    "        if variable == 'hashtag':\n",
    "            control_list = [x for x in control_list if x != 'fyp']\n",
    "            save_list = [x for x in save_list if x != 'fyp']\n",
    "\n",
    "        diff_val = 1 - jaccard_index(control_list, save_list)\n",
    "        jaccard_dict[variable] = diff_val\n",
    "    \n",
    "    jaccard_list.append(jaccard_dict)\n",
    "\n",
    "df_diff = pd.DataFrame(jaccard_list, index=[tup[0] for tup in collection_times])\n",
    "df_diff"
   ]
  },
  {
   "cell_type": "markdown",
   "metadata": {},
   "source": [
    "<a id=\"sec4\"></a>\n",
    "### 4. Visualizations"
   ]
  },
  {
   "cell_type": "code",
   "execution_count": 18,
   "metadata": {},
   "outputs": [
    {
     "data": {
      "image/png": "[encoded data removed]",
      "text/plain": [
       "<Figure size 640x480 with 1 Axes>"
      ]
     },
     "metadata": {},
     "output_type": "display_data"
    }
   ],
   "source": [
    "collection_times = df_diff.index.tolist()\n",
    "\n",
    "sns.set(style=\"whitegrid\")  # Set the style\n",
    "#plt.figure(figsize=(10, 6))  # Set the figure size\n",
    "sns.lineplot(data=df_diff, marker='o', dashes=False)  # Create line plot\n",
    "\n",
    "\n",
    "\n",
    "plt.title('Difference of Feeds Over Time (Test vs. Control)')  # Set title\n",
    "plt.xlabel('Test Runs')  # Set x-axis label\n",
    "plt.ylabel('Difference')  # Set y-axis label\n",
    "plt.xticks(ticks=range(len(collection_times)), labels=collection_times, rotation=45)  # Rotate x-axis labels for better readability\n",
    "plt.tight_layout()  # Adjust layout\n",
    "plt.show()  # Show plot"
   ]
  },
  {
   "cell_type": "code",
   "execution_count": 13,
   "metadata": {},
   "outputs": [],
   "source": [
    "## Try to do saved videos also\n"
   ]
  }
 ],
 "metadata": {
  "kernelspec": {
   "display_name": "Python 3",
   "language": "python",
   "name": "python3"
  },
  "language_info": {
   "codemirror_mode": {
    "name": "ipython",
    "version": 3
   },
   "file_extension": ".py",
   "mimetype": "text/x-python",
   "name": "python",
   "nbconvert_exporter": "python",
   "pygments_lexer": "ipython3",
   "version": "3.11.3"
  }
 },
 "nbformat": 4,
 "nbformat_minor": 2
}
