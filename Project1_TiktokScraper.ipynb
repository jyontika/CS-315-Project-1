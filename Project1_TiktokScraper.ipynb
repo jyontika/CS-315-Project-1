{
 "cells": [
  {
   "cell_type": "code",
   "execution_count": 2,
   "id": "fcb3b9e2",
   "metadata": {},
   "outputs": [],
   "source": [
    "import time\n",
    "from selenium import webdriver\n",
    "from selenium.webdriver.common.keys import Keys\n",
    "from selenium.webdriver.common.by import By\n",
    "username='tiktokcs315'\n",
    "password='tiktokCS315!'\n"
   ]
  },
  {
   "cell_type": "code",
   "execution_count": 3,
   "id": "b596e985",
   "metadata": {},
   "outputs": [],
   "source": [
    "\"\"\"Given a username and password for a Tiktok account, open Tiktok email login, \n",
    "enter credentials, and manually perform security test\n",
    "\"\"\"\n",
    "driver = webdriver.Firefox()\n",
    "driver.get('https://www.tiktok.com/login/phone-or-email/email')\n",
    "\n",
    "username_input = driver.find_element('xpath', '/html/body/div[1]/div/div[2]/div[1]/form/div[1]/input')\n",
    "password_input = driver.find_element('xpath','/html/body/div[1]/div/div[2]/div[1]/form/div[2]/div/input')\n",
    "\n",
    "username_input.send_keys(username)        \n",
    "password_input.send_keys(password)\n",
    "\n",
    "password_input.send_keys(Keys.RETURN)\n"
   ]
  },
  {
   "cell_type": "code",
   "execution_count": 5,
   "id": "ed1aa6c4",
   "metadata": {},
   "outputs": [
    {
     "name": "stdout",
     "output_type": "stream",
     "text": [
      "https://www.tiktok.com/@chuppchester?lang=en\n",
      "https://www.tiktok.com/@floxy2540/live?enter_from_merge=homepage_hot&enter_method=video_head&from_play_mode=one_column&lang=en&request_id=202402041835058119F31FFFC9DE59A873&video_id=7304648815393393926\n",
      "https://www.tiktok.com/@marahfoster?lang=en\n",
      "https://www.tiktok.com/@mr.blue.heart?lang=en\n",
      "https://www.tiktok.com/@hannahbahng?lang=en\n",
      "https://www.tiktok.com/@andrea.lopez44?lang=en\n",
      "https://www.tiktok.com/@debby_orah_?lang=en\n",
      "https://www.tiktok.com/@dailyrreddit?lang=en\n",
      "https://www.tiktok.com/@puffipup?lang=en\n",
      "Number of videos in fyp: 9\n"
     ]
    }
   ],
   "source": [
    "\"\"\"Find all usernames on the fyp\n",
    "\"\"\"\n",
    "numvids = 0\n",
    "parent_element = driver.find_element('xpath', '//*[@id=\"main-content-homepage_hot\"]')\n",
    "sub_categories = parent_element.find_elements('xpath', './/div[contains(@class, \"css-18a873i-DivItemContainer\") and contains(@class, \"etvrc4k0\")]/a')\n",
    "for sub_category in sub_categories:\n",
    "    href = sub_category.get_attribute('href')\n",
    "    print(href)\n",
    "    numvids+=1\n",
    "print(f'Number of videos in fyp: {numvids}')"
   ]
  },
  {
   "cell_type": "code",
   "execution_count": 7,
   "id": "2f111d85",
   "metadata": {},
   "outputs": [
    {
     "ename": "ElementClickInterceptedException",
     "evalue": "Message: Element <button class=\"e4an5uj1 css-zmqo9-Button-StyledFollowButtonTux e1v8cfre0\"> is not clickable at point (1054,106) because another element <a class=\"exws2ct3 css-1gdfwpc-StyledLink-StyledUserLink er1vbsz0\" href=\"/@tiktokcs315?lang=en\"> obscures it\nStacktrace:\nRemoteError@chrome://remote/content/shared/RemoteError.sys.mjs:8:8\nWebDriverError@chrome://remote/content/shared/webdriver/Errors.sys.mjs:191:5\nElementClickInterceptedError@chrome://remote/content/shared/webdriver/Errors.sys.mjs:335:5\nwebdriverClickElement@chrome://remote/content/marionette/interaction.sys.mjs:176:11\ninteraction.clickElement@chrome://remote/content/marionette/interaction.sys.mjs:135:11\nclickElement@chrome://remote/content/marionette/actors/MarionetteCommandsChild.sys.mjs:204:29\nreceiveMessage@chrome://remote/content/marionette/actors/MarionetteCommandsChild.sys.mjs:84:31\n",
     "output_type": "error",
     "traceback": [
      "\u001b[1;31m---------------------------------------------------------------------------\u001b[0m",
      "\u001b[1;31mElementClickInterceptedException\u001b[0m          Traceback (most recent call last)",
      "Cell \u001b[1;32mIn[7], line 19\u001b[0m\n\u001b[0;32m     16\u001b[0m     ActionChains(driver)\u001b[38;5;241m.\u001b[39mmove_to_element(follow_button)\u001b[38;5;241m.\u001b[39mperform()\n\u001b[0;32m     18\u001b[0m     \u001b[38;5;66;03m# Click the \"Follow\" button\u001b[39;00m\n\u001b[1;32m---> 19\u001b[0m     follow_button\u001b[38;5;241m.\u001b[39mclick()\n\u001b[0;32m     20\u001b[0m     numvids\u001b[38;5;241m+\u001b[39m\u001b[38;5;241m=\u001b[39m\u001b[38;5;241m1\u001b[39m\n\u001b[0;32m     21\u001b[0m \u001b[38;5;28mprint\u001b[39m(\u001b[38;5;124mf\u001b[39m\u001b[38;5;124m'\u001b[39m\u001b[38;5;124mNumber of follows in fyp: \u001b[39m\u001b[38;5;132;01m{\u001b[39;00mnumvids\u001b[38;5;132;01m}\u001b[39;00m\u001b[38;5;124m'\u001b[39m)\n",
      "File \u001b[1;32mC:\\Anaconda\\Lib\\site-packages\\selenium\\webdriver\\remote\\webelement.py:94\u001b[0m, in \u001b[0;36mWebElement.click\u001b[1;34m(self)\u001b[0m\n\u001b[0;32m     92\u001b[0m \u001b[38;5;28;01mdef\u001b[39;00m \u001b[38;5;21mclick\u001b[39m(\u001b[38;5;28mself\u001b[39m) \u001b[38;5;241m-\u001b[39m\u001b[38;5;241m>\u001b[39m \u001b[38;5;28;01mNone\u001b[39;00m:\n\u001b[0;32m     93\u001b[0m \u001b[38;5;250m    \u001b[39m\u001b[38;5;124;03m\"\"\"Clicks the element.\"\"\"\u001b[39;00m\n\u001b[1;32m---> 94\u001b[0m     \u001b[38;5;28mself\u001b[39m\u001b[38;5;241m.\u001b[39m_execute(Command\u001b[38;5;241m.\u001b[39mCLICK_ELEMENT)\n",
      "File \u001b[1;32mC:\\Anaconda\\Lib\\site-packages\\selenium\\webdriver\\remote\\webelement.py:395\u001b[0m, in \u001b[0;36mWebElement._execute\u001b[1;34m(self, command, params)\u001b[0m\n\u001b[0;32m    393\u001b[0m     params \u001b[38;5;241m=\u001b[39m {}\n\u001b[0;32m    394\u001b[0m params[\u001b[38;5;124m\"\u001b[39m\u001b[38;5;124mid\u001b[39m\u001b[38;5;124m\"\u001b[39m] \u001b[38;5;241m=\u001b[39m \u001b[38;5;28mself\u001b[39m\u001b[38;5;241m.\u001b[39m_id\n\u001b[1;32m--> 395\u001b[0m \u001b[38;5;28;01mreturn\u001b[39;00m \u001b[38;5;28mself\u001b[39m\u001b[38;5;241m.\u001b[39m_parent\u001b[38;5;241m.\u001b[39mexecute(command, params)\n",
      "File \u001b[1;32mC:\\Anaconda\\Lib\\site-packages\\selenium\\webdriver\\remote\\webdriver.py:347\u001b[0m, in \u001b[0;36mWebDriver.execute\u001b[1;34m(self, driver_command, params)\u001b[0m\n\u001b[0;32m    345\u001b[0m response \u001b[38;5;241m=\u001b[39m \u001b[38;5;28mself\u001b[39m\u001b[38;5;241m.\u001b[39mcommand_executor\u001b[38;5;241m.\u001b[39mexecute(driver_command, params)\n\u001b[0;32m    346\u001b[0m \u001b[38;5;28;01mif\u001b[39;00m response:\n\u001b[1;32m--> 347\u001b[0m     \u001b[38;5;28mself\u001b[39m\u001b[38;5;241m.\u001b[39merror_handler\u001b[38;5;241m.\u001b[39mcheck_response(response)\n\u001b[0;32m    348\u001b[0m     response[\u001b[38;5;124m\"\u001b[39m\u001b[38;5;124mvalue\u001b[39m\u001b[38;5;124m\"\u001b[39m] \u001b[38;5;241m=\u001b[39m \u001b[38;5;28mself\u001b[39m\u001b[38;5;241m.\u001b[39m_unwrap_value(response\u001b[38;5;241m.\u001b[39mget(\u001b[38;5;124m\"\u001b[39m\u001b[38;5;124mvalue\u001b[39m\u001b[38;5;124m\"\u001b[39m, \u001b[38;5;28;01mNone\u001b[39;00m))\n\u001b[0;32m    349\u001b[0m     \u001b[38;5;28;01mreturn\u001b[39;00m response\n",
      "File \u001b[1;32mC:\\Anaconda\\Lib\\site-packages\\selenium\\webdriver\\remote\\errorhandler.py:229\u001b[0m, in \u001b[0;36mErrorHandler.check_response\u001b[1;34m(self, response)\u001b[0m\n\u001b[0;32m    227\u001b[0m         alert_text \u001b[38;5;241m=\u001b[39m value[\u001b[38;5;124m\"\u001b[39m\u001b[38;5;124malert\u001b[39m\u001b[38;5;124m\"\u001b[39m]\u001b[38;5;241m.\u001b[39mget(\u001b[38;5;124m\"\u001b[39m\u001b[38;5;124mtext\u001b[39m\u001b[38;5;124m\"\u001b[39m)\n\u001b[0;32m    228\u001b[0m     \u001b[38;5;28;01mraise\u001b[39;00m exception_class(message, screen, stacktrace, alert_text)  \u001b[38;5;66;03m# type: ignore[call-arg]  # mypy is not smart enough here\u001b[39;00m\n\u001b[1;32m--> 229\u001b[0m \u001b[38;5;28;01mraise\u001b[39;00m exception_class(message, screen, stacktrace)\n",
      "\u001b[1;31mElementClickInterceptedException\u001b[0m: Message: Element <button class=\"e4an5uj1 css-zmqo9-Button-StyledFollowButtonTux e1v8cfre0\"> is not clickable at point (1054,106) because another element <a class=\"exws2ct3 css-1gdfwpc-StyledLink-StyledUserLink er1vbsz0\" href=\"/@tiktokcs315?lang=en\"> obscures it\nStacktrace:\nRemoteError@chrome://remote/content/shared/RemoteError.sys.mjs:8:8\nWebDriverError@chrome://remote/content/shared/webdriver/Errors.sys.mjs:191:5\nElementClickInterceptedError@chrome://remote/content/shared/webdriver/Errors.sys.mjs:335:5\nwebdriverClickElement@chrome://remote/content/marionette/interaction.sys.mjs:176:11\ninteraction.clickElement@chrome://remote/content/marionette/interaction.sys.mjs:135:11\nclickElement@chrome://remote/content/marionette/actors/MarionetteCommandsChild.sys.mjs:204:29\nreceiveMessage@chrome://remote/content/marionette/actors/MarionetteCommandsChild.sys.mjs:84:31\n"
     ]
    }
   ],
   "source": [
    "\"\"\"Click Follow button\n",
    "\"\"\"\n",
    "from selenium.webdriver.common.action_chains import ActionChains\n",
    "\n",
    "numvids = 0\n",
    "parent_element = driver.find_element('xpath', '//*[@id=\"main-content-homepage_hot\"]')\n",
    "sub_categories = parent_element.find_elements('xpath', './/div[contains(@class, \"css-18a873i-DivItemContainer\") and contains(@class, \"etvrc4k0\")]/a')\n",
    "for i in range(0, len(sub_categories), 3):\n",
    "    # Get the sub-category at index i\n",
    "    sub_category = sub_categories[i]\n",
    "\n",
    "    # Get the parent button element\n",
    "    follow_button = sub_category.find_element('xpath', '/html/body/div[1]/div[2]/div[2]/div[1]/div[1]/div/div[1]/button')\n",
    "\n",
    "    # Scroll into view to make sure the button is clickable\n",
    "    ActionChains(driver).move_to_element(follow_button).perform()\n",
    "\n",
    "    # Click the \"Follow\" button\n",
    "    follow_button.click()\n",
    "    numvids+=1\n",
    "print(f'Number of follows in fyp: {numvids}')"
   ]
  }
 ],
 "metadata": {
  "kernelspec": {
   "display_name": "Python 3 (ipykernel)",
   "language": "python",
   "name": "python3"
  },
  "language_info": {
   "codemirror_mode": {
    "name": "ipython",
    "version": 3
   },
   "file_extension": ".py",
   "mimetype": "text/x-python",
   "name": "python",
   "nbconvert_exporter": "python",
   "pygments_lexer": "ipython3",
   "version": "3.11.5"
  }
 },
 "nbformat": 4,
 "nbformat_minor": 5
}
